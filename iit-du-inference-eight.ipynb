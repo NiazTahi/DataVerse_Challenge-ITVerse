{
 "cells": [
  {
   "cell_type": "code",
   "execution_count": 1,
   "id": "402061aa",
   "metadata": {},
   "outputs": [],
   "source": [
    "import pandas as pd\n",
    "test_df = pd.read_csv(\"testData.csv\")"
   ]
  },
  {
   "cell_type": "code",
   "execution_count": 2,
   "id": "d0ecccd8",
   "metadata": {},
   "outputs": [],
   "source": [
    "# Sort by length\n",
    "index = test_df[\"text\"].str.len().sort_values(ascending=False).index\n",
    "test_df = test_df.reindex(index)"
   ]
  },
  {
   "cell_type": "code",
   "execution_count": 3,
   "id": "5c1d3ff1",
   "metadata": {},
   "outputs": [],
   "source": [
    "# Remove English alphanumeric values\n",
    "alpha_pat = \"[a-zA-z0-9]\"\n",
    "\n",
    "test_df[\"text\"] = test_df[\"text\"].str.replace(alpha_pat, \"\", regex=True)"
   ]
  },
  {
   "cell_type": "code",
   "execution_count": 4,
   "id": "058af1bf",
   "metadata": {},
   "outputs": [
    {
     "name": "stderr",
     "output_type": "stream",
     "text": [
      "Special tokens have been added in the vocabulary, make sure the associated word embeddings are fine-tuned or trained.\n"
     ]
    }
   ],
   "source": [
    "from transformers import pipeline\n",
    "model_id = \"iit-eight/checkpoint-36000/\"\n",
    "pipe = pipeline(\"text2text-generation\", model=model_id, device=0)"
   ]
  },
  {
   "cell_type": "code",
   "execution_count": 68,
   "id": "adea39ca",
   "metadata": {},
   "outputs": [
    {
     "name": "stdout",
     "output_type": "stream",
     "text": [
      "CPU times: total: 516 ms\n",
      "Wall time: 516 ms\n"
     ]
    }
   ],
   "source": [
    "%%time\n",
    "texts = test_df[\"text\"].tolist()\n",
    "ipas = pipe(texts, max_length=128, batch_size=16)\n",
    "ipas = [ipa[\"generated_text\"] for ipa in ipas]"
   ]
  },
  {
   "cell_type": "code",
   "execution_count": 69,
   "id": "04ade520",
   "metadata": {},
   "outputs": [
    {
     "data": {
      "text/plain": [
       "['kɛmon ɐcʰo t̪umi!']"
      ]
     },
     "execution_count": 69,
     "metadata": {},
     "output_type": "execute_result"
    }
   ],
   "source": [
    "ipas"
   ]
  },
  {
   "cell_type": "code",
   "execution_count": 7,
   "id": "5d01061e",
   "metadata": {},
   "outputs": [
    {
     "data": {
      "text/html": [
       "<div>\n",
       "<style scoped>\n",
       "    .dataframe tbody tr th:only-of-type {\n",
       "        vertical-align: middle;\n",
       "    }\n",
       "\n",
       "    .dataframe tbody tr th {\n",
       "        vertical-align: top;\n",
       "    }\n",
       "\n",
       "    .dataframe thead th {\n",
       "        text-align: right;\n",
       "    }\n",
       "</style>\n",
       "<table border=\"1\" class=\"dataframe\">\n",
       "  <thead>\n",
       "    <tr style=\"text-align: right;\">\n",
       "      <th></th>\n",
       "      <th>row_id_column_name</th>\n",
       "      <th>text</th>\n",
       "    </tr>\n",
       "  </thead>\n",
       "  <tbody>\n",
       "    <tr>\n",
       "      <th>13704</th>\n",
       "      <td>13704</td>\n",
       "      <td>এছাড়া চট্টগ্রাম-কক্সবাজার, ঢাকা-চট্টগ্রাম, রাঙ...</td>\n",
       "    </tr>\n",
       "    <tr>\n",
       "      <th>10739</th>\n",
       "      <td>10739</td>\n",
       "      <td>চ্যাম্পিয়ন হওয়া উদ্যোগগুলো হল- সেবা পদ্ধতি সহজ...</td>\n",
       "    </tr>\n",
       "    <tr>\n",
       "      <th>6971</th>\n",
       "      <td>6971</td>\n",
       "      <td>মন্ত্রী বলেন, বর্তমানে বেসরকারি পর্যায়ে চিকিৎস...</td>\n",
       "    </tr>\n",
       "    <tr>\n",
       "      <th>11358</th>\n",
       "      <td>11358</td>\n",
       "      <td>শিল্প মন্ত্রণালয় এবং ইউরোপিয়ান ইউনিয়নের সহায়তা...</td>\n",
       "    </tr>\n",
       "    <tr>\n",
       "      <th>6527</th>\n",
       "      <td>6527</td>\n",
       "      <td>ঘুরবতে বৈশাখী ভ্রমণ প্যাকেজে দার্জিলিং-মিরিককা...</td>\n",
       "    </tr>\n",
       "    <tr>\n",
       "      <th>...</th>\n",
       "      <td>...</td>\n",
       "      <td>...</td>\n",
       "    </tr>\n",
       "    <tr>\n",
       "      <th>11180</th>\n",
       "      <td>11180</td>\n",
       "      <td>জয় ৪ ম্যাচে।</td>\n",
       "    </tr>\n",
       "    <tr>\n",
       "      <th>7867</th>\n",
       "      <td>7867</td>\n",
       "      <td>আজ ৪ আষাঢ়।</td>\n",
       "    </tr>\n",
       "    <tr>\n",
       "      <th>11116</th>\n",
       "      <td>11116</td>\n",
       "      <td>৫৯ জন আহত।</td>\n",
       "    </tr>\n",
       "    <tr>\n",
       "      <th>13549</th>\n",
       "      <td>13549</td>\n",
       "      <td>- একা একা।</td>\n",
       "    </tr>\n",
       "    <tr>\n",
       "      <th>3341</th>\n",
       "      <td>3341</td>\n",
       "      <td>টাই : ১।</td>\n",
       "    </tr>\n",
       "  </tbody>\n",
       "</table>\n",
       "<p>27228 rows × 2 columns</p>\n",
       "</div>"
      ],
      "text/plain": [
       "       row_id_column_name                                               text\n",
       "13704               13704  এছাড়া চট্টগ্রাম-কক্সবাজার, ঢাকা-চট্টগ্রাম, রাঙ...\n",
       "10739               10739  চ্যাম্পিয়ন হওয়া উদ্যোগগুলো হল- সেবা পদ্ধতি সহজ...\n",
       "6971                 6971  মন্ত্রী বলেন, বর্তমানে বেসরকারি পর্যায়ে চিকিৎস...\n",
       "11358               11358  শিল্প মন্ত্রণালয় এবং ইউরোপিয়ান ইউনিয়নের সহায়তা...\n",
       "6527                 6527  ঘুরবতে বৈশাখী ভ্রমণ প্যাকেজে দার্জিলিং-মিরিককা...\n",
       "...                   ...                                                ...\n",
       "11180               11180                                       জয় ৪ ম্যাচে।\n",
       "7867                 7867                                         আজ ৪ আষাঢ়।\n",
       "11116               11116                                         ৫৯ জন আহত।\n",
       "13549               13549                                         - একা একা।\n",
       "3341                 3341                                           টাই : ১।\n",
       "\n",
       "[27228 rows x 2 columns]"
      ]
     },
     "execution_count": 7,
     "metadata": {},
     "output_type": "execute_result"
    }
   ],
   "source": [
    "test_df"
   ]
  },
  {
   "cell_type": "code",
   "execution_count": 8,
   "id": "d4e1657a",
   "metadata": {},
   "outputs": [
    {
     "data": {
      "text/html": [
       "<div>\n",
       "<style scoped>\n",
       "    .dataframe tbody tr th:only-of-type {\n",
       "        vertical-align: middle;\n",
       "    }\n",
       "\n",
       "    .dataframe tbody tr th {\n",
       "        vertical-align: top;\n",
       "    }\n",
       "\n",
       "    .dataframe thead th {\n",
       "        text-align: right;\n",
       "    }\n",
       "</style>\n",
       "<table border=\"1\" class=\"dataframe\">\n",
       "  <thead>\n",
       "    <tr style=\"text-align: right;\">\n",
       "      <th></th>\n",
       "      <th>row_id_column_name</th>\n",
       "      <th>text</th>\n",
       "      <th>ipa</th>\n",
       "    </tr>\n",
       "  </thead>\n",
       "  <tbody>\n",
       "    <tr>\n",
       "      <th>0</th>\n",
       "      <td>0</td>\n",
       "      <td>বিশেষ অতিথি এফএম ইকবাল বিন আনোয়ার (ডন) অ্যাডিশ...</td>\n",
       "      <td>biʃeʃ ot̪it̪i epʰem ikbɐl bin ɐnoʷɐɾ ‘dɔn, ɛdi...</td>\n",
       "    </tr>\n",
       "    <tr>\n",
       "      <th>1</th>\n",
       "      <td>1</td>\n",
       "      <td>এ নিয়ে বিবাদে ২০১৫ সালের ২ জুন রাত সাড়ে ১১টায় ...</td>\n",
       "      <td>e niʲe bibɐd̪e septembɔɾi sɐleɾ bɐ͡i̯ ɟun ɾɐt̪...</td>\n",
       "    </tr>\n",
       "    <tr>\n",
       "      <th>2</th>\n",
       "      <td>2</td>\n",
       "      <td>আজ থেকে ১৪ বছর আগে তিনি চলে গেছেন না ফেরার দেশে।</td>\n",
       "      <td>ɐɟ t̪ʰeke ʲcʰoɾ bɔcʰoɾ ɐge t̪ini cɔle gecʰen n...</td>\n",
       "    </tr>\n",
       "    <tr>\n",
       "      <th>3</th>\n",
       "      <td>3</td>\n",
       "      <td>নিহত ব্যক্তি কুতপালং টালের ই-২ ব্লকের আবুল বাছ...</td>\n",
       "      <td>nihɔt̪o bekt̪i kut̪pɐloŋ tɐleɾ i-e͡i̯ blokeɾ ɐ...</td>\n",
       "    </tr>\n",
       "    <tr>\n",
       "      <th>4</th>\n",
       "      <td>4</td>\n",
       "      <td>সংক্ষিপ্ত স্কোরশ্রীলংকা প্রথম ইনিংস ৪৮২ (করুনা...</td>\n",
       "      <td>ʃɔŋkkʰipt̪o skoɾɔsɾilŋkɐ pɾot̪ʰom iniŋʃo cɐ͡i̯...</td>\n",
       "    </tr>\n",
       "  </tbody>\n",
       "</table>\n",
       "</div>"
      ],
      "text/plain": [
       "   row_id_column_name                                               text  \\\n",
       "0                   0  বিশেষ অতিথি এফএম ইকবাল বিন আনোয়ার (ডন) অ্যাডিশ...   \n",
       "1                   1  এ নিয়ে বিবাদে ২০১৫ সালের ২ জুন রাত সাড়ে ১১টায় ...   \n",
       "2                   2   আজ থেকে ১৪ বছর আগে তিনি চলে গেছেন না ফেরার দেশে।   \n",
       "3                   3  নিহত ব্যক্তি কুতপালং টালের ই-২ ব্লকের আবুল বাছ...   \n",
       "4                   4  সংক্ষিপ্ত স্কোরশ্রীলংকা প্রথম ইনিংস ৪৮২ (করুনা...   \n",
       "\n",
       "                                                 ipa  \n",
       "0  biʃeʃ ot̪it̪i epʰem ikbɐl bin ɐnoʷɐɾ ‘dɔn, ɛdi...  \n",
       "1  e niʲe bibɐd̪e septembɔɾi sɐleɾ bɐ͡i̯ ɟun ɾɐt̪...  \n",
       "2  ɐɟ t̪ʰeke ʲcʰoɾ bɔcʰoɾ ɐge t̪ini cɔle gecʰen n...  \n",
       "3  nihɔt̪o bekt̪i kut̪pɐloŋ tɐleɾ i-e͡i̯ blokeɾ ɐ...  \n",
       "4  ʃɔŋkkʰipt̪o skoɾɔsɾilŋkɐ pɾot̪ʰom iniŋʃo cɐ͡i̯...  "
      ]
     },
     "execution_count": 8,
     "metadata": {},
     "output_type": "execute_result"
    }
   ],
   "source": [
    "test_df[\"ipa\"] = ipas\n",
    "test_df = test_df.sort_index()\n",
    "test_df.head()"
   ]
  },
  {
   "cell_type": "code",
   "execution_count": 9,
   "id": "33fb6c09",
   "metadata": {},
   "outputs": [],
   "source": [
    "test_df = test_df.drop('text', axis = 1)"
   ]
  },
  {
   "cell_type": "code",
   "execution_count": 10,
   "id": "ae39fac5",
   "metadata": {},
   "outputs": [],
   "source": [
    "test_df.to_csv(\"submission_jup_eightt_two.csv\", index = None)"
   ]
  },
  {
   "cell_type": "code",
   "execution_count": null,
   "id": "098ad0f8",
   "metadata": {},
   "outputs": [],
   "source": []
  }
 ],
 "metadata": {
  "kernelspec": {
   "display_name": "Python 3 (ipykernel)",
   "language": "python",
   "name": "python3"
  },
  "language_info": {
   "codemirror_mode": {
    "name": "ipython",
    "version": 3
   },
   "file_extension": ".py",
   "mimetype": "text/x-python",
   "name": "python",
   "nbconvert_exporter": "python",
   "pygments_lexer": "ipython3",
   "version": "3.9.12"
  }
 },
 "nbformat": 4,
 "nbformat_minor": 5
}
