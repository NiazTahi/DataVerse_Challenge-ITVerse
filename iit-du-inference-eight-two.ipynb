{
 "cells": [
  {
   "cell_type": "markdown",
   "id": "967b9acc",
   "metadata": {},
   "source": [
    "# Data Loading"
   ]
  },
  {
   "cell_type": "code",
   "execution_count": 1,
   "id": "402061aa",
   "metadata": {},
   "outputs": [],
   "source": [
    "import pandas as pd\n",
    "import re\n",
    "test_df = pd.read_csv(\"testData.csv\")"
   ]
  },
  {
   "cell_type": "markdown",
   "id": "eca51f56",
   "metadata": {},
   "source": [
    "# Data processing"
   ]
  },
  {
   "cell_type": "code",
   "execution_count": null,
   "id": "d0ecccd8",
   "metadata": {},
   "outputs": [],
   "source": [
    "# Sort by length\n",
    "index = test_df[\"text\"].str.len().sort_values(ascending=False).index\n",
    "test_df = test_df.reindex(index)"
   ]
  },
  {
   "cell_type": "code",
   "execution_count": 2,
   "id": "5c1d3ff1",
   "metadata": {},
   "outputs": [],
   "source": [
    "# Remove English alphanumeric values\n",
    "alpha_pat = \"[a-zA-z0-9]\"\n",
    "\n",
    "test_df[\"text\"] = test_df[\"text\"].str.replace(alpha_pat, \"\", regex=True)"
   ]
  },
  {
   "cell_type": "code",
   "execution_count": 3,
   "id": "ea756018",
   "metadata": {},
   "outputs": [],
   "source": [
    "# Handling দাঁড়ি problem\n",
    "d = '।'\n",
    "\n",
    "test_df['text'] = test_df[\"text\"].str.replace(d, \" ।\", regex=True)"
   ]
  },
  {
   "cell_type": "markdown",
   "id": "ffeddf2a",
   "metadata": {},
   "source": [
    "### Numerals"
   ]
  },
  {
   "cell_type": "code",
   "execution_count": 4,
   "id": "bb240b5a",
   "metadata": {},
   "outputs": [],
   "source": [
    "bangla_numerals =     [\"শুন্য\", \"এক\", \"দুই\", \"তিন\", \"চার\", \"পাঁচ\", \"ছয়\", \"সাত\", \"আট\", \"নয়\", \"দশ\",\n",
    "                      \"এগারো\", \"বার\", \"তেড়\", \"চৌদ্দ\", \"পনের\", \"ষোল\", \"সতের\", \"আঠার\", \"উনিশ\", \"বিশ\",\n",
    "                      \"একুশ\", \"বাইশ\", \"তেইশ\", \"চব্বিশ\", \"পঁচিশ\", \"ছাব্বিশ\", \"সাতাশ\", \"আঠাশ\", \"ঊনত্রিশ\", \"ত্রিশ\",\n",
    "                      \"একত্রিশ\", \"বত্রিশ\", \"তেত্রিশ\", \"চৌত্রিশ\", \"পঁয়ত্রিশ\", \"ছত্রিশ\", \"সাঁইত্রিশ\" , \"আটত্রিশ\", \"ঊনচল্লিশ\", \"চল্লিশ\",\n",
    "                      \"একচল্লিশ\", \"বিয়াল্লিশ\", \"তেতাল্লিশ\", \"চুয়াল্লিশ\", \"পঁয়তাল্লিশ\", \"ছেচল্লিশ\", \"সাতচল্লিশ\", \"আটচল্লিশ\", \"ঊনপঞ্চাশ\", \"পঞ্চাশ\",\n",
    "                      \"একান্ন\", \"বায়ান্ন\", \"তিপ্পান্ন\", \"চুয়ান্ন\", \"পঞ্চান্ন\", \"ছাপ্পান্ন\", \"সাতান্ন\", \"আটান্ন\", \"ঊনষাট\", \"ষাট\",\n",
    "                      \"একষট্টি\", \"বাষট্টি\", \"তেষট্টি\", \"চৌষট্টি\", \"পঁয়ষট্টি\", \"ছেষট্টি\", \"সাতষট্টি\", \"আটষট্টি\", \"ঊনসত্তর\", \"সত্তর\",\n",
    "                      \"একাত্তর\", \"বাহাত্তর\", \"তিয়াত্তর\", \"চুয়াত্তর\", \"পঁচাত্তর\", \"ছিয়াত্তর\", \"সাতাত্তর\", \"আটাত্তর\", \"ঊনআশি\", \"আশি\",\n",
    "                      \"একাশি\", \"বিরাশি\", \"তিরাশি\", \"চুরাশি\", \"পঁচাশি\", \"ছিয়াশি\", \"সাতাশি\", \"আটাশি\", \"ঊননব্বই\", \"নব্বই\",\n",
    "                      \"একানব্বই\", \"বিরানব্বই\", \"তিরানব্বই\", \"চুরানব্বই\", \"পঁচানব্বই\", \"ছিয়ানব্বই\", \"সাতানব্বই\", \"আটানব্বই\", \"নিরানব্বই\",\n",
    "                       \"একশো\"]"
   ]
  },
  {
   "cell_type": "code",
   "execution_count": 5,
   "id": "6a474f5b",
   "metadata": {},
   "outputs": [],
   "source": [
    "def num2bangla(input_number, context=False):\n",
    "    if not str(input_number).isdigit():\n",
    "        return \"NotValid\"\n",
    "    #Context True Means if it is digit by digit\n",
    "    if context:\n",
    "        return ' '.join(bangla_numerals[int(digit)] for digit in str(input_number))\n",
    "\n",
    "    input_number = int(input_number)\n",
    "\n",
    "    if not 0 <= input_number <= 999999999:\n",
    "        return \"NotInRange\"\n",
    "\n",
    "\n",
    "    \n",
    "    crore, input_number = divmod(input_number, 10000000)\n",
    "    lakh, input_number = divmod(input_number, 100000)\n",
    "    thousand, input_number = divmod(input_number, 1000)\n",
    "    hundred, input_number = divmod(input_number, 100)\n",
    "    tens, ones = divmod(input_number, 10)\n",
    "\n",
    "    result = \"\"\n",
    "\n",
    "    if crore:\n",
    "        result += num2bangla(crore) + \" কোটি \"\n",
    "    if lakh:\n",
    "        result += num2bangla(lakh) + \" লাখ\"\n",
    "    if thousand:\n",
    "        result += \" \" + num2bangla(thousand) + \" হাজার\"\n",
    "    if hundred:\n",
    "        result += \" \" + num2bangla(hundred) + \"শো\"\n",
    "\n",
    "    if (tens or ones) and input_number>=0 and input_number<=100:\n",
    "        if result:\n",
    "            result += \" \" \n",
    "        result += bangla_numerals[int(input_number)]\n",
    "\n",
    "    return result.lstrip() or \"শুন্য\""
   ]
  },
  {
   "cell_type": "code",
   "execution_count": 6,
   "id": "efc2b43b",
   "metadata": {},
   "outputs": [],
   "source": [
    "def replace_numerals_with_words(text, context=False):\n",
    "    words = text.split()\n",
    "    modified_words = []\n",
    "\n",
    "    for word in words:\n",
    "        #handled 911\n",
    "        #if word == '৯১১':\n",
    "            #modified_words.append(num2bangla(word, True))\n",
    "            #continue\n",
    "            \n",
    "        #handled the plus sign\n",
    "        if word == '+':\n",
    "            modified_words.append('যোগ')\n",
    "            continue\n",
    "        if '+' in word and len(str(word))>1:\n",
    "            z = 0\n",
    "            y = 0\n",
    "            if word[0] == '(':\n",
    "                z = 1\n",
    "            if word[-1] == ')':\n",
    "                y = 1\n",
    "            chars_to_ignore = '[()]'\n",
    "            word = re.sub(chars_to_ignore, '', word)\n",
    "            parts = word.split('+')\n",
    "            modified_words.append(('('+num2bangla(parts[0], context) if z==1 else num2bangla(parts[0], context)))\n",
    "            modified_words.append(\"যোগ\")\n",
    "            if str(parts[1]).isdigit():\n",
    "                modified_words.append((num2bangla(parts[1], context)+')' if y==1 else num2bangla(parts[1], context)))\n",
    "            continue\n",
    "            \n",
    "        #handles the equal sign\n",
    "        if word == '=':\n",
    "            modified_words.append('সমান')\n",
    "            continue\n",
    "        \n",
    "        #handled date\n",
    "        date = word.split('/')\n",
    "        if len(date) == 3 and len(str(date[1])) == 2:\n",
    "            modified_words.append(num2bangla(date[0][-2:], False))\n",
    "            if date[1] == '০১':\n",
    "                modified_words.append('জানুয়ারি')\n",
    "            elif date[1] == '০২':\n",
    "                modified_words.append('ফেব্রুয়ারি')\n",
    "            elif date[1] == '০৩':\n",
    "                modified_words.append('মার্চ')\n",
    "            elif date[1] == '০৪':\n",
    "                modified_words.append('এপ্রিল')\n",
    "            elif date[1] == '০৫':\n",
    "                modified_words.append('মে')\n",
    "            elif date[1] == '০৬':\n",
    "                modified_words.append('জুন')\n",
    "            elif date[1] == '০৭':\n",
    "                modified_words.append('জুলাই')\n",
    "            elif date[1] == '০৮':\n",
    "                modified_words.append('আগস্ট')\n",
    "            elif date[1] == '০৯':\n",
    "                modified_words.append('সেপ্টেম্বর')\n",
    "            elif date[1] == '১০':\n",
    "                modified_words.append('অক্টোবর')\n",
    "            elif date[1] == '১১':\n",
    "                modified_words.append('নভেম্বর')\n",
    "            elif date[1] == '১২':\n",
    "                modified_words.append('ডিসেম্বর')\n",
    "            modified_words.append(num2bangla(date[2][:4], False))\n",
    "            continue\n",
    "        \n",
    "        #handled double dots\n",
    "        decimal = re.sub(re.escape('.'), '', word)\n",
    "        if len(word.split('.')) == 3 and decimal.isnumeric():\n",
    "            parts = word.split('.')\n",
    "            modified_words.append(num2bangla(parts[0], False))\n",
    "            modified_words.append(\"দশমিক\")\n",
    "            modified_words.append(num2bangla(parts[1], False))\n",
    "            modified_words.append(\"দশমিক\")\n",
    "            modified_words.append(num2bangla(parts[2], False))\n",
    "            continue\n",
    "        \n",
    "        #handled the \".\"\n",
    "        decimal = re.sub(re.escape('.'), '', word)\n",
    "        if '.' in word and decimal.isnumeric():\n",
    "            parts = word.split('.')\n",
    "            modified_words.append(num2bangla(parts[0], False))\n",
    "            if str(parts[1]).isdigit():\n",
    "                modified_words.append(\"দশমিক\")\n",
    "                modified_words.append(num2bangla(parts[1], True))\n",
    "            continue\n",
    "        \n",
    "        #handle phone number\n",
    "        if word.startswith('০'):\n",
    "            z = 0\n",
    "            if word[-1] == ',':\n",
    "                z = 1\n",
    "            chars_to_ignore = '[-,\\.:;\\'\"!\\?।()]'\n",
    "            word = re.sub(chars_to_ignore, '', word)\n",
    "            modified_words.append((num2bangla(word, context=True)+',' if z==1 else num2bangla(word, context=True)))\n",
    "            continue\n",
    "\n",
    "        #handled the \",\"\n",
    "        comma = re.sub(re.escape(','), '', word)\n",
    "        if( comma.isnumeric() and int(comma)>0):\n",
    "            z = 0\n",
    "            if word[-1] == ',':\n",
    "                z = 1\n",
    "            word = re.sub(re.escape(','), '', word);\n",
    "            modified_words.append((num2bangla(word, context)+',' if z==1 else num2bangla(word, context)))\n",
    "            continue\n",
    "            \n",
    "        #handled ১ম থেকে ১০ম\n",
    "        z = ['১ম', '২য়', '৩য়', '৪র্থ', '৫ম', '৬ষ্ঠ', '৭ম', '৮ম', '৯ম', '১০ম']\n",
    "        if word in z:\n",
    "            if word == '১ম':\n",
    "                modified_words.append('প্রথম')\n",
    "                continue\n",
    "            elif word == '২য়':\n",
    "                modified_words.append('দ্বিতীয়')\n",
    "                continue\n",
    "            elif word == '৩য়':\n",
    "                modified_words.append('তৃতীয়')\n",
    "                continue\n",
    "            elif word == '৪র্থ':\n",
    "                modified_words.append('চতুর্থ')\n",
    "                continue\n",
    "            elif word == '৫ম':\n",
    "                modified_words.append('পঞ্চম')\n",
    "                continue\n",
    "            elif word == '৬ষ্ঠ':\n",
    "                modified_words.append('ষষ্ঠ')\n",
    "                continue\n",
    "            elif word == '৭ম':\n",
    "                modified_words.append('সপ্তম')\n",
    "                continue\n",
    "            elif word == '৮ম':\n",
    "                modified_words.append('অষ্টম')\n",
    "                continue\n",
    "            elif word == '৯ম':\n",
    "                modified_words.append('নবম')\n",
    "                continue\n",
    "            elif word == '১০ম':\n",
    "                modified_words.append('দশম')\n",
    "                continue\n",
    "        \n",
    "        #handled ১লা থেকে ৪ঠা\n",
    "        date = ['১লা', '২রা', '৩রা', '৪ঠা']\n",
    "        if word in date:\n",
    "            if word == '১লা':\n",
    "                modified_words.append('পহেলা')\n",
    "                continue\n",
    "            elif word == '২রা':\n",
    "                modified_words.append('দোসরা')\n",
    "                continue\n",
    "            elif word == '৩রা':\n",
    "                modified_words.append('তেসরা')\n",
    "                continue\n",
    "            elif word == '৪ঠা':\n",
    "                modified_words.append('চৌঠা')\n",
    "                continue\n",
    "        \n",
    "        #handled if it is attached with a string\n",
    "        else:\n",
    "            temp_modified = []\n",
    "            parts = re.split(r'(\\d+)', word)\n",
    "            for part in parts:\n",
    "                if part.isnumeric():\n",
    "                    part = num2bangla(part, context)\n",
    "                elif part =='%':\n",
    "                    part = 'শতাংশ' \n",
    "                temp_modified.append(part)\n",
    "            modified_words.append(''.join(temp_modified))\n",
    "\n",
    "    updated_text = ' '.join(modified_words)\n",
    "    return updated_text"
   ]
  },
  {
   "cell_type": "code",
   "execution_count": 7,
   "id": "3215300d",
   "metadata": {},
   "outputs": [],
   "source": [
    "# Apply the 'replace_numerals_with_words' function to transform numerals in the filtered text\n",
    "test_df['text'] = test_df['text'].apply(replace_numerals_with_words)"
   ]
  },
  {
   "cell_type": "code",
   "execution_count": 8,
   "id": "ef6711ba",
   "metadata": {},
   "outputs": [],
   "source": [
    "# Handling দাঁড়ি problem 2.0\n",
    "d = ' ।'\n",
    "test_df['text'] = test_df[\"text\"].str.replace(d, \"।\", regex=True)"
   ]
  },
  {
   "cell_type": "markdown",
   "id": "6132a695",
   "metadata": {},
   "source": [
    "### Abbreviation"
   ]
  },
  {
   "cell_type": "code",
   "execution_count": 9,
   "id": "a2f6473d",
   "metadata": {},
   "outputs": [],
   "source": [
    "# ডা\n",
    "d = 'ডা\\.'\n",
    "\n",
    "test_df['text'] = test_df[\"text\"].str.replace(d, \"ডাক্তার\", regex=True)"
   ]
  },
  {
   "cell_type": "code",
   "execution_count": 10,
   "id": "b224a187",
   "metadata": {},
   "outputs": [],
   "source": [
    "# ড\n",
    "d = 'ড\\.'\n",
    "\n",
    "test_df['text'] = test_df[\"text\"].str.replace(d, \"ডক্টর\", regex=True)"
   ]
  },
  {
   "cell_type": "code",
   "execution_count": 11,
   "id": "58fd93a8",
   "metadata": {},
   "outputs": [],
   "source": [
    "# স.\n",
    "d = '\\(স\\.\\)'\n",
    "test_df['text'] = test_df[\"text\"].str.replace(d, \"সাল্লাল্লাহু আলাইহি ওয়া সাল্লাম\", regex=True)"
   ]
  },
  {
   "cell_type": "code",
   "execution_count": 12,
   "id": "667104aa",
   "metadata": {},
   "outputs": [],
   "source": [
    "# সা.\n",
    "d = '\\(সা\\.\\)'\n",
    "test_df['text'] = test_df[\"text\"].str.replace(d, \"সাল্লাল্লাহু আলাইহি ওয়া সাল্লাম\", regex=True)"
   ]
  },
  {
   "cell_type": "code",
   "execution_count": 13,
   "id": "e0423618",
   "metadata": {},
   "outputs": [],
   "source": [
    "# র.\n",
    "d = '\\(র\\.\\)'\n",
    "test_df['text'] = test_df[\"text\"].str.replace(d, \"রাদিআল্লাহু আনহু\", regex=True)"
   ]
  },
  {
   "cell_type": "code",
   "execution_count": 14,
   "id": "8d9a1a74",
   "metadata": {},
   "outputs": [],
   "source": [
    "# রা.\n",
    "d = '\\(রা\\.\\)'\n",
    "test_df['text'] = test_df[\"text\"].str.replace(d, \"রাদিআল্লাহু আনহু\", regex=True)"
   ]
  },
  {
   "cell_type": "code",
   "execution_count": 15,
   "id": "3a7208d8",
   "metadata": {},
   "outputs": [],
   "source": [
    "# রহ.\n",
    "d = '\\(রহ\\.\\)'\n",
    "test_df['text'] = test_df[\"text\"].str.replace(d, \"রহমাতুল্লাহি আলাইহি\", regex=True)"
   ]
  },
  {
   "cell_type": "code",
   "execution_count": 16,
   "id": "c78586f8",
   "metadata": {},
   "outputs": [],
   "source": [
    "# অব.\n",
    "d = '\\(অব\\.\\)'\n",
    "\n",
    "test_df['text'] = test_df[\"text\"].str.replace(d, \"অবসরপ্রাপ্ত\", regex=True)"
   ]
  },
  {
   "cell_type": "code",
   "execution_count": 17,
   "id": "92159244",
   "metadata": {},
   "outputs": [],
   "source": [
    "# মো. \n",
    "d = 'মো\\.'\n",
    "\n",
    "test_df['text'] = test_df[\"text\"].str.replace(d, \"মোহাম্মদ\", regex=True)"
   ]
  },
  {
   "cell_type": "code",
   "execution_count": 18,
   "id": "1b7bd662",
   "metadata": {},
   "outputs": [],
   "source": [
    "# মু.\n",
    "d = 'মু\\.'\n",
    "\n",
    "test_df['text'] = test_df[\"text\"].str.replace(d, \"মুহম্মদ\", regex=True)"
   ]
  },
  {
   "cell_type": "code",
   "execution_count": 19,
   "id": "8e33739a",
   "metadata": {},
   "outputs": [],
   "source": [
    "# মুহ.\n",
    "d = 'মুহ\\.'\n",
    "\n",
    "test_df['text'] = test_df[\"text\"].str.replace(d, \"মুহম্মদ\", regex=True)"
   ]
  },
  {
   "cell_type": "code",
   "execution_count": 20,
   "id": "aa06ca28",
   "metadata": {},
   "outputs": [],
   "source": [
    "# আ.\n",
    "d = 'আ\\.'\n",
    "\n",
    "test_df['text'] = test_df[\"text\"].str.replace(d, \"আব্দুল\", regex=True)"
   ]
  },
  {
   "cell_type": "code",
   "execution_count": 21,
   "id": "9372a3f2",
   "metadata": {},
   "outputs": [],
   "source": [
    "# আওয়ামী লীগ\n",
    "d = 'আ’'\n",
    "\n",
    "test_df['text'] = test_df[\"text\"].str.replace(d, \"আওয়ামী \", regex=True)"
   ]
  },
  {
   "cell_type": "code",
   "execution_count": 22,
   "id": "d213a0a5",
   "metadata": {},
   "outputs": [],
   "source": [
    "test_dff = pd.read_csv(\"testData.csv\")"
   ]
  },
  {
   "cell_type": "code",
   "execution_count": 120,
   "id": "68b628cc",
   "metadata": {},
   "outputs": [
    {
     "data": {
      "text/plain": [
       "'বিস্তারিত জাতীয় বিশ্ববিদ্যালয়ের নির্দিষ্ট ওয়েবসাইট (. ... অথবা ../) থেকে জানা যাবে।'"
      ]
     },
     "execution_count": 120,
     "metadata": {},
     "output_type": "execute_result"
    }
   ],
   "source": [
    "test_df['text'][2032]"
   ]
  },
  {
   "cell_type": "code",
   "execution_count": 121,
   "id": "ecbcdde8",
   "metadata": {},
   "outputs": [
    {
     "data": {
      "text/plain": [
       "'বিস্তারিত জাতীয় বিশ্ববিদ্যালয়ের নির্দিষ্ট ওয়েবসাইট ww(w. admissions.nu.edu.bd অথবা nu.edu.bd/admissions) থেকে জানা যাবে।'"
      ]
     },
     "execution_count": 121,
     "metadata": {},
     "output_type": "execute_result"
    }
   ],
   "source": [
    "test_dff['text'][2032]"
   ]
  },
  {
   "cell_type": "code",
   "execution_count": 115,
   "id": "a4c8284b",
   "metadata": {},
   "outputs": [
    {
     "data": {
      "text/html": [
       "<div>\n",
       "<style scoped>\n",
       "    .dataframe tbody tr th:only-of-type {\n",
       "        vertical-align: middle;\n",
       "    }\n",
       "\n",
       "    .dataframe tbody tr th {\n",
       "        vertical-align: top;\n",
       "    }\n",
       "\n",
       "    .dataframe thead th {\n",
       "        text-align: right;\n",
       "    }\n",
       "</style>\n",
       "<table border=\"1\" class=\"dataframe\">\n",
       "  <thead>\n",
       "    <tr style=\"text-align: right;\">\n",
       "      <th></th>\n",
       "      <th>row_id_column_name</th>\n",
       "      <th>text</th>\n",
       "    </tr>\n",
       "  </thead>\n",
       "  <tbody>\n",
       "    <tr>\n",
       "      <th>115</th>\n",
       "      <td>115</td>\n",
       "      <td>এতে প্রধান অতিথি ছিলেন কেরানীগঞ্জ উপজেলা চেয়ার...</td>\n",
       "    </tr>\n",
       "    <tr>\n",
       "      <th>298</th>\n",
       "      <td>298</td>\n",
       "      <td>২৫ ইউপিতে আ’লীগের প্রতিদ্বন্দ্বী নেই : তৃতীয় ধ...</td>\n",
       "    </tr>\n",
       "    <tr>\n",
       "      <th>1026</th>\n",
       "      <td>1026</td>\n",
       "      <td>প্রতিমন্ত্রীর পিওর সঙ্গে ছিলেন মনিগ্রাম ইউনিয়ন...</td>\n",
       "    </tr>\n",
       "    <tr>\n",
       "      <th>1537</th>\n",
       "      <td>1537</td>\n",
       "      <td>এ উপজেলায় ইউপি নির্বাচনে আ’লীগের ৪১ প্রার্থী ও...</td>\n",
       "    </tr>\n",
       "    <tr>\n",
       "      <th>1632</th>\n",
       "      <td>1632</td>\n",
       "      <td>অভিযোগ রয়েছে- আ’লীগ সমর্থিত শাহজাদপুর পৌর মেয়র...</td>\n",
       "    </tr>\n",
       "    <tr>\n",
       "      <th>2049</th>\n",
       "      <td>2049</td>\n",
       "      <td>রোববার দুপুরে ওসমানীনগর উপজেলা আ’লীগের উদ্যোগে...</td>\n",
       "    </tr>\n",
       "    <tr>\n",
       "      <th>2122</th>\n",
       "      <td>2122</td>\n",
       "      <td>যুক্তরাজ্য আ’লীগের যুগ্ম সাধারণ সম্পাদক আনোয়ার...</td>\n",
       "    </tr>\n",
       "    <tr>\n",
       "      <th>2251</th>\n",
       "      <td>2251</td>\n",
       "      <td>বাদেপাশায় আ’লীগের প্রার্থী মোস্তাক আহমদ, জাসদে...</td>\n",
       "    </tr>\n",
       "    <tr>\n",
       "      <th>2273</th>\n",
       "      <td>2273</td>\n",
       "      <td>পরে উপজেলা আ’লীগের সাবেক সাধারণ সম্পাদক ও সংশ্...</td>\n",
       "    </tr>\n",
       "    <tr>\n",
       "      <th>2536</th>\n",
       "      <td>2536</td>\n",
       "      <td>এতে সভাপতিত্ব করেন গাঙ্গুটিয়া ইউনিয়ন আ’লীগের স...</td>\n",
       "    </tr>\n",
       "    <tr>\n",
       "      <th>3141</th>\n",
       "      <td>3141</td>\n",
       "      <td>তবে অভিযোগ অস্বীকার করেছেন ইউনিয়ন আ’লীগের সভাপতি।</td>\n",
       "    </tr>\n",
       "    <tr>\n",
       "      <th>3416</th>\n",
       "      <td>3416</td>\n",
       "      <td>বড়লেখা প্রতিনিধিকাউখালীতে আ’লীগের বর্ধিত সভা অ...</td>\n",
       "    </tr>\n",
       "    <tr>\n",
       "      <th>3683</th>\n",
       "      <td>3683</td>\n",
       "      <td>আ’লীগের প্রার্থী ছাড়া বিএনপি বা অন্য কোনো রাজন...</td>\n",
       "    </tr>\n",
       "    <tr>\n",
       "      <th>3893</th>\n",
       "      <td>3893</td>\n",
       "      <td>দেশের উন্নয়নের যে ফিরিস্তি আ’লীগ তুলে ধরে তা শ...</td>\n",
       "    </tr>\n",
       "    <tr>\n",
       "      <th>4348</th>\n",
       "      <td>4348</td>\n",
       "      <td>পলাতক থাকাবস্থায় রামগঞ্জ উপজেলা আ’লীগের সভাপতি...</td>\n",
       "    </tr>\n",
       "    <tr>\n",
       "      <th>4589</th>\n",
       "      <td>4589</td>\n",
       "      <td>এখানে আ’লীগের প্রেসিডিয়াম সদস্য সাবেক সংসদ সদস...</td>\n",
       "    </tr>\n",
       "    <tr>\n",
       "      <th>5393</th>\n",
       "      <td>5393</td>\n",
       "      <td>ওই নির্বাচনে ইউপি আ’লীগের সভাপতি নুরুল ইসলাম ৩...</td>\n",
       "    </tr>\n",
       "    <tr>\n",
       "      <th>5439</th>\n",
       "      <td>5439</td>\n",
       "      <td>প্রতিটি ইউনিয়নে আ’লীগের প্রার্থীরা ঘন ঘন যোগ দ...</td>\n",
       "    </tr>\n",
       "    <tr>\n",
       "      <th>6798</th>\n",
       "      <td>6798</td>\n",
       "      <td>জেলা আ’লীগের সভাপতি সিরাজুল মোস্তফা ও সম্পাদক ...</td>\n",
       "    </tr>\n",
       "    <tr>\n",
       "      <th>7497</th>\n",
       "      <td>7497</td>\n",
       "      <td>শুভেচ্ছা বক্তব্য রাখেন আল-ফালাহ আ’ম উন্নয়ন সংস...</td>\n",
       "    </tr>\n",
       "    <tr>\n",
       "      <th>7665</th>\n",
       "      <td>7665</td>\n",
       "      <td>রাজপথ আ’লীগের দখলে : জামায়াতের ডাকা হরতালে রাজ...</td>\n",
       "    </tr>\n",
       "    <tr>\n",
       "      <th>7914</th>\n",
       "      <td>7914</td>\n",
       "      <td>ইউনিয়নের সাবেক চেয়ারম্যান মো. চেরাগ আলী আ’লীগে...</td>\n",
       "    </tr>\n",
       "    <tr>\n",
       "      <th>8223</th>\n",
       "      <td>8223</td>\n",
       "      <td>আমার সিদ্ধান্তের কথা দুদিন আগে উপজেলা আ’লীগের ...</td>\n",
       "    </tr>\n",
       "    <tr>\n",
       "      <th>8893</th>\n",
       "      <td>8893</td>\n",
       "      <td>তিনি ওই আসন থেকে আ’লীগের মনোনয়ন চাইবেন।</td>\n",
       "    </tr>\n",
       "    <tr>\n",
       "      <th>8927</th>\n",
       "      <td>8927</td>\n",
       "      <td>এরপর সুজাদ আলী সুরুর সমর্থক দেলসাত আলী তার দলব...</td>\n",
       "    </tr>\n",
       "    <tr>\n",
       "      <th>9851</th>\n",
       "      <td>9851</td>\n",
       "      <td>বিগত নির্বাচনে অধিকাংশ ইউনিয়নে আ’লীগ প্রার্থীদ...</td>\n",
       "    </tr>\n",
       "    <tr>\n",
       "      <th>10620</th>\n",
       "      <td>10620</td>\n",
       "      <td>মঙ্গলবার রাতে জেলা ও মহানগর আ’লীগের শীর্ষ নেতা...</td>\n",
       "    </tr>\n",
       "    <tr>\n",
       "      <th>11255</th>\n",
       "      <td>11255</td>\n",
       "      <td>এক্ষেত্রেও বিতর্কিতরা মনোনয়ন পাচ্ছেন শুধু গত ক...</td>\n",
       "    </tr>\n",
       "    <tr>\n",
       "      <th>11777</th>\n",
       "      <td>11777</td>\n",
       "      <td>এ ব্যাপারে আশুগঞ্জ থানা ভারপ্রাপ্ত কর্মকর্তা ম...</td>\n",
       "    </tr>\n",
       "  </tbody>\n",
       "</table>\n",
       "</div>"
      ],
      "text/plain": [
       "       row_id_column_name                                               text\n",
       "115                   115  এতে প্রধান অতিথি ছিলেন কেরানীগঞ্জ উপজেলা চেয়ার...\n",
       "298                   298  ২৫ ইউপিতে আ’লীগের প্রতিদ্বন্দ্বী নেই : তৃতীয় ধ...\n",
       "1026                 1026  প্রতিমন্ত্রীর পিওর সঙ্গে ছিলেন মনিগ্রাম ইউনিয়ন...\n",
       "1537                 1537  এ উপজেলায় ইউপি নির্বাচনে আ’লীগের ৪১ প্রার্থী ও...\n",
       "1632                 1632  অভিযোগ রয়েছে- আ’লীগ সমর্থিত শাহজাদপুর পৌর মেয়র...\n",
       "2049                 2049  রোববার দুপুরে ওসমানীনগর উপজেলা আ’লীগের উদ্যোগে...\n",
       "2122                 2122  যুক্তরাজ্য আ’লীগের যুগ্ম সাধারণ সম্পাদক আনোয়ার...\n",
       "2251                 2251  বাদেপাশায় আ’লীগের প্রার্থী মোস্তাক আহমদ, জাসদে...\n",
       "2273                 2273  পরে উপজেলা আ’লীগের সাবেক সাধারণ সম্পাদক ও সংশ্...\n",
       "2536                 2536  এতে সভাপতিত্ব করেন গাঙ্গুটিয়া ইউনিয়ন আ’লীগের স...\n",
       "3141                 3141  তবে অভিযোগ অস্বীকার করেছেন ইউনিয়ন আ’লীগের সভাপতি।\n",
       "3416                 3416  বড়লেখা প্রতিনিধিকাউখালীতে আ’লীগের বর্ধিত সভা অ...\n",
       "3683                 3683  আ’লীগের প্রার্থী ছাড়া বিএনপি বা অন্য কোনো রাজন...\n",
       "3893                 3893  দেশের উন্নয়নের যে ফিরিস্তি আ’লীগ তুলে ধরে তা শ...\n",
       "4348                 4348  পলাতক থাকাবস্থায় রামগঞ্জ উপজেলা আ’লীগের সভাপতি...\n",
       "4589                 4589  এখানে আ’লীগের প্রেসিডিয়াম সদস্য সাবেক সংসদ সদস...\n",
       "5393                 5393  ওই নির্বাচনে ইউপি আ’লীগের সভাপতি নুরুল ইসলাম ৩...\n",
       "5439                 5439  প্রতিটি ইউনিয়নে আ’লীগের প্রার্থীরা ঘন ঘন যোগ দ...\n",
       "6798                 6798  জেলা আ’লীগের সভাপতি সিরাজুল মোস্তফা ও সম্পাদক ...\n",
       "7497                 7497  শুভেচ্ছা বক্তব্য রাখেন আল-ফালাহ আ’ম উন্নয়ন সংস...\n",
       "7665                 7665  রাজপথ আ’লীগের দখলে : জামায়াতের ডাকা হরতালে রাজ...\n",
       "7914                 7914  ইউনিয়নের সাবেক চেয়ারম্যান মো. চেরাগ আলী আ’লীগে...\n",
       "8223                 8223  আমার সিদ্ধান্তের কথা দুদিন আগে উপজেলা আ’লীগের ...\n",
       "8893                 8893            তিনি ওই আসন থেকে আ’লীগের মনোনয়ন চাইবেন।\n",
       "8927                 8927  এরপর সুজাদ আলী সুরুর সমর্থক দেলসাত আলী তার দলব...\n",
       "9851                 9851  বিগত নির্বাচনে অধিকাংশ ইউনিয়নে আ’লীগ প্রার্থীদ...\n",
       "10620               10620  মঙ্গলবার রাতে জেলা ও মহানগর আ’লীগের শীর্ষ নেতা...\n",
       "11255               11255  এক্ষেত্রেও বিতর্কিতরা মনোনয়ন পাচ্ছেন শুধু গত ক...\n",
       "11777               11777  এ ব্যাপারে আশুগঞ্জ থানা ভারপ্রাপ্ত কর্মকর্তা ম..."
      ]
     },
     "execution_count": 115,
     "metadata": {},
     "output_type": "execute_result"
    }
   ],
   "source": [
    "z = \"আ\\’\"\n",
    "\n",
    "test_dff[lambda x: x[\"text\"].str.contains(z)]"
   ]
  },
  {
   "cell_type": "code",
   "execution_count": null,
   "id": "a0238323",
   "metadata": {},
   "outputs": [],
   "source": []
  },
  {
   "cell_type": "code",
   "execution_count": null,
   "id": "3797ad0c",
   "metadata": {},
   "outputs": [],
   "source": []
  },
  {
   "cell_type": "code",
   "execution_count": null,
   "id": "caabb04a",
   "metadata": {},
   "outputs": [],
   "source": []
  },
  {
   "cell_type": "markdown",
   "id": "2598a538",
   "metadata": {},
   "source": [
    "# Model"
   ]
  },
  {
   "cell_type": "code",
   "execution_count": null,
   "id": "058af1bf",
   "metadata": {},
   "outputs": [],
   "source": [
    "from transformers import pipeline\n",
    "model_id = \"iit-eight/checkpoint-36000/\"\n",
    "pipe = pipeline(\"text2text-generation\", model=model_id, device=0)"
   ]
  },
  {
   "cell_type": "markdown",
   "id": "d3400440",
   "metadata": {},
   "source": [
    "# Inference"
   ]
  },
  {
   "cell_type": "code",
   "execution_count": null,
   "id": "adea39ca",
   "metadata": {},
   "outputs": [],
   "source": [
    "%%time\n",
    "texts = test_df[\"text\"].tolist()\n",
    "ipas = pipe(texts, max_length=128, batch_size=16)\n",
    "ipas = [ipa[\"generated_text\"] for ipa in ipas]"
   ]
  },
  {
   "cell_type": "code",
   "execution_count": null,
   "id": "5ff892e9",
   "metadata": {},
   "outputs": [],
   "source": [
    "ipas"
   ]
  },
  {
   "cell_type": "code",
   "execution_count": null,
   "id": "5d01061e",
   "metadata": {},
   "outputs": [],
   "source": [
    "test_df"
   ]
  },
  {
   "cell_type": "code",
   "execution_count": null,
   "id": "d4e1657a",
   "metadata": {},
   "outputs": [],
   "source": [
    "test_df[\"ipa\"] = ipas\n",
    "test_df = test_df.sort_index()\n",
    "test_df.head()"
   ]
  },
  {
   "cell_type": "code",
   "execution_count": null,
   "id": "33fb6c09",
   "metadata": {},
   "outputs": [],
   "source": [
    "test_df = test_df.drop('text', axis = 1)"
   ]
  },
  {
   "cell_type": "code",
   "execution_count": null,
   "id": "ae39fac5",
   "metadata": {},
   "outputs": [],
   "source": [
    "test_df.to_csv(\"submission_jup_eightt_one.csv\", index = None)"
   ]
  },
  {
   "cell_type": "code",
   "execution_count": null,
   "id": "098ad0f8",
   "metadata": {},
   "outputs": [],
   "source": []
  }
 ],
 "metadata": {
  "kernelspec": {
   "display_name": "Python 3 (ipykernel)",
   "language": "python",
   "name": "python3"
  },
  "language_info": {
   "codemirror_mode": {
    "name": "ipython",
    "version": 3
   },
   "file_extension": ".py",
   "mimetype": "text/x-python",
   "name": "python",
   "nbconvert_exporter": "python",
   "pygments_lexer": "ipython3",
   "version": "3.9.12"
  }
 },
 "nbformat": 4,
 "nbformat_minor": 5
}
